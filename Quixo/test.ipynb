{
 "cells": [
  {
   "cell_type": "code",
   "execution_count": 2,
   "metadata": {},
   "outputs": [],
   "source": [
    "from itertools import product\n",
    "from enum import Enum\n",
    "from game import Game, Move\n",
    "\n",
    "import numpy as np\n"
   ]
  },
  {
   "cell_type": "code",
   "execution_count": 3,
   "metadata": {},
   "outputs": [],
   "source": [
    "c = tuple(product(range(5), repeat=2))"
   ]
  },
  {
   "cell_type": "code",
   "execution_count": 4,
   "metadata": {},
   "outputs": [],
   "source": [
    "class MinOrMax(Enum):\n",
    "    '''\n",
    "    \n",
    "    '''\n",
    "    isMin = -1\n",
    "    isMax = 1\n",
    "    \n",
    "a = MinOrMax.isMin\n",
    "\n",
    "if a == MinOrMax.isMax:\n",
    "    print(\"Yes\")"
   ]
  },
  {
   "cell_type": "code",
   "execution_count": 5,
   "metadata": {},
   "outputs": [
    {
     "name": "stdout",
     "output_type": "stream",
     "text": [
      "1\n",
      "0\n"
     ]
    }
   ],
   "source": [
    "players = [1, 2]\n",
    "current_player_idx = 0\n",
    "\n",
    "current_player_idx += 1\n",
    "current_player_idx %= len(players)\n",
    "print(current_player_idx)\n",
    "\n",
    "current_player_idx += 1\n",
    "current_player_idx %= len(players)\n",
    "print(current_player_idx)"
   ]
  },
  {
   "cell_type": "code",
   "execution_count": 6,
   "metadata": {},
   "outputs": [
    {
     "name": "stdout",
     "output_type": "stream",
     "text": [
      "[[1 0 1 0 0]\n",
      " [1 1 0 1 1]\n",
      " [0 1 0 0 0]\n",
      " [0 1 1 0 1]\n",
      " [0 1 1 0 1]]\n",
      "3\n",
      "2\n",
      "2\n",
      "3\n",
      "96\n"
     ]
    }
   ],
   "source": [
    "game = Game()\n",
    "\n",
    "for row in range(game._board.shape[0]):\n",
    "    for col in range(game._board.shape[1]):\n",
    "        if np.random.randint(2) == 1:  # Genera casualmente 0 o 1\n",
    "            game._board[row, col] = 1\n",
    "        else:\n",
    "            game._board[row, col] = 0\n",
    "\n",
    "print(game._board)\n",
    "\n",
    "numero_1_per_riga = np.sum(game._board == 1, axis=1)\n",
    "numero_0_per_riga = np.sum(game._board == 0, axis=1)\n",
    "\n",
    "numero_1_per_colonna = np.sum(game._board == 1, axis=0)\n",
    "numero_0_per_colonna = np.sum(game._board == 0, axis=0)\n",
    "    \n",
    "# print (numero_1_per_riga)\n",
    "# print (numero_0_per_riga)\n",
    "# print (numero_1_per_colonna)\n",
    "# print (numero_0_per_colonna)\n",
    "# print()\n",
    "\n",
    "numero_1_sulla_principale = np.sum(np.diag(game._board) == 1)\n",
    "numero_1_sulla_secondaria = np.sum(np.diag(np.fliplr(game._board)) == 1)\n",
    "\n",
    "numero_0_sulla_principale = np.sum(np.diag(game._board) == 0)\n",
    "numero_0_sulla_secondaria = np.sum(np.diag(np.fliplr(game._board)) == 0)\n",
    "\n",
    "print(numero_1_sulla_principale)\n",
    "print(numero_1_sulla_secondaria)\n",
    "print(numero_0_sulla_principale)\n",
    "print(numero_0_sulla_secondaria)\n",
    "\n",
    "POINTS = [0, 1, 5, 20, 50, 1000]\n",
    "value = 0\n",
    "\n",
    "for sequence in numero_1_per_riga:\n",
    "    value += POINTS[sequence]\n",
    "    \n",
    "print(value)\n",
    "    "
   ]
  },
  {
   "cell_type": "code",
   "execution_count": 7,
   "metadata": {},
   "outputs": [
    {
     "name": "stdout",
     "output_type": "stream",
     "text": [
      "1\n"
     ]
    },
    {
     "data": {
      "text/plain": [
       "1"
      ]
     },
     "execution_count": 7,
     "metadata": {},
     "output_type": "execute_result"
    }
   ],
   "source": [
    "a = float(\"inf\") \n",
    "b = float(\"-inf\")\n",
    "\n",
    "c = MinOrMax.isMax\n",
    "\n",
    "print(c.value)\n",
    "abs(1-2)"
   ]
  },
  {
   "cell_type": "code",
   "execution_count": 14,
   "metadata": {},
   "outputs": [
    {
     "name": "stdout",
     "output_type": "stream",
     "text": [
      "[[1 0 1 0 1]\n",
      " [1 0 1 1 0]\n",
      " [1 0 1 0 0]\n",
      " [0 1 1 1 1]\n",
      " [0 0 1 1 1]]\n"
     ]
    }
   ],
   "source": [
    "game1 = Game()\n",
    "\n",
    "for row in range(game1._board.shape[0]):\n",
    "    for col in range(game1._board.shape[1]):\n",
    "        if np.random.randint(2) == 1:  # Genera casualmente 0 o 1\n",
    "            game1._board[row, col] = 1\n",
    "        else:\n",
    "            game1._board[row, col] = 0\n",
    "\n",
    "game1.print()"
   ]
  },
  {
   "cell_type": "code",
   "execution_count": 22,
   "metadata": {},
   "outputs": [
    {
     "name": "stdout",
     "output_type": "stream",
     "text": [
      "0\n",
      "1\n",
      "1\n"
     ]
    }
   ],
   "source": [
    "print(game1._board[0, 1])\n",
    "print(game1._board[1, 0])\n",
    "print(game1._board[3, 4])"
   ]
  }
 ],
 "metadata": {
  "kernelspec": {
   "display_name": "Python 3",
   "language": "python",
   "name": "python3"
  },
  "language_info": {
   "codemirror_mode": {
    "name": "ipython",
    "version": 3
   },
   "file_extension": ".py",
   "mimetype": "text/x-python",
   "name": "python",
   "nbconvert_exporter": "python",
   "pygments_lexer": "ipython3",
   "version": "3.12.1"
  }
 },
 "nbformat": 4,
 "nbformat_minor": 2
}
